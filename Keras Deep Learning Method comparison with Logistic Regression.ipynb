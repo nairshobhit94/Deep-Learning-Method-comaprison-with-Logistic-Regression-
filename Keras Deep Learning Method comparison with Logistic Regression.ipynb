{
 "cells": [
  {
   "cell_type": "markdown",
   "metadata": {},
   "source": [
    "# Deep Learning Using Keras "
   ]
  },
  {
   "cell_type": "code",
   "execution_count": 1,
   "metadata": {},
   "outputs": [
    {
     "name": "stderr",
     "output_type": "stream",
     "text": [
      "C:\\Users\\Robinhood\\Anaconda3\\lib\\site-packages\\h5py\\__init__.py:36: FutureWarning: Conversion of the second argument of issubdtype from `float` to `np.floating` is deprecated. In future, it will be treated as `np.float64 == np.dtype(float).type`.\n",
      "  from ._conv import register_converters as _register_converters\n",
      "Using TensorFlow backend.\n"
     ]
    }
   ],
   "source": [
    "import numpy \n",
    "from numpy import loadtxt\n",
    "from keras.models import Sequential\n",
    "from keras.layers import Dense"
   ]
  },
  {
   "cell_type": "markdown",
   "metadata": {},
   "source": [
    "# Import the Dataset "
   ]
  },
  {
   "cell_type": "code",
   "execution_count": 2,
   "metadata": {},
   "outputs": [],
   "source": [
    "import pandas as pd\n",
    "dataset=loadtxt(\"indian_diabetes.csv\",delimiter=\",\")\n",
    "# Split dataset into training and test dataset\n",
    "X=dataset[:,0:8]\n",
    "y=dataset[:,8]"
   ]
  },
  {
   "cell_type": "markdown",
   "metadata": {},
   "source": [
    "# Define the Keras Model"
   ]
  },
  {
   "cell_type": "code",
   "execution_count": 3,
   "metadata": {},
   "outputs": [
    {
     "name": "stdout",
     "output_type": "stream",
     "text": [
      "WARNING:tensorflow:From C:\\Users\\Robinhood\\Anaconda3\\lib\\site-packages\\tensorflow\\python\\framework\\op_def_library.py:263: colocate_with (from tensorflow.python.framework.ops) is deprecated and will be removed in a future version.\n",
      "Instructions for updating:\n",
      "Colocations handled automatically by placer.\n"
     ]
    }
   ],
   "source": [
    "model=Sequential()\n",
    "model.add(Dense(12, input_dim=8, activation=\"relu\"))\n",
    "model.add(Dense(8, activation=\"relu\"))\n",
    "model.add(Dense(1, activation=\"sigmoid\"))"
   ]
  },
  {
   "cell_type": "markdown",
   "metadata": {},
   "source": [
    "# Compile the Keras Model"
   ]
  },
  {
   "cell_type": "code",
   "execution_count": 4,
   "metadata": {},
   "outputs": [],
   "source": [
    "model.compile(loss=\"binary_crossentropy\",optimizer=\"adam\",metrics=[\"accuracy\"])"
   ]
  },
  {
   "cell_type": "markdown",
   "metadata": {},
   "source": [
    "# Fit the Keras Model on Dataset"
   ]
  },
  {
   "cell_type": "code",
   "execution_count": 5,
   "metadata": {},
   "outputs": [
    {
     "name": "stdout",
     "output_type": "stream",
     "text": [
      "WARNING:tensorflow:From C:\\Users\\Robinhood\\Anaconda3\\lib\\site-packages\\tensorflow\\python\\ops\\math_ops.py:3066: to_int32 (from tensorflow.python.ops.math_ops) is deprecated and will be removed in a future version.\n",
      "Instructions for updating:\n",
      "Use tf.cast instead.\n",
      "Epoch 1/150\n",
      "768/768 [==============================] - 3s 4ms/step - loss: 2.0849 - acc: 0.4622\n",
      "Epoch 2/150\n",
      "768/768 [==============================] - 0s 260us/step - loss: 0.8857 - acc: 0.5391\n",
      "Epoch 3/150\n",
      "768/768 [==============================] - 0s 250us/step - loss: 0.7332 - acc: 0.5924\n",
      "Epoch 4/150\n",
      "768/768 [==============================] - 0s 161us/step - loss: 0.7118 - acc: 0.6003\n",
      "Epoch 5/150\n",
      "768/768 [==============================] - 0s 130us/step - loss: 0.6995 - acc: 0.6211\n",
      "Epoch 6/150\n",
      "768/768 [==============================] - 0s 130us/step - loss: 0.6865 - acc: 0.6484\n",
      "Epoch 7/150\n",
      "768/768 [==============================] - 0s 146us/step - loss: 0.6882 - acc: 0.6159\n",
      "Epoch 8/150\n",
      "768/768 [==============================] - 0s 125us/step - loss: 0.6702 - acc: 0.6432\n",
      "Epoch 9/150\n",
      "768/768 [==============================] - 0s 120us/step - loss: 0.6592 - acc: 0.6615\n",
      "Epoch 10/150\n",
      "768/768 [==============================] - 0s 125us/step - loss: 0.6712 - acc: 0.6393\n",
      "Epoch 11/150\n",
      "768/768 [==============================] - 0s 130us/step - loss: 0.6553 - acc: 0.6563\n",
      "Epoch 12/150\n",
      "768/768 [==============================] - 0s 146us/step - loss: 0.6536 - acc: 0.6563\n",
      "Epoch 13/150\n",
      "768/768 [==============================] - 0s 130us/step - loss: 0.6387 - acc: 0.6732\n",
      "Epoch 14/150\n",
      "768/768 [==============================] - 0s 130us/step - loss: 0.6427 - acc: 0.6602\n",
      "Epoch 15/150\n",
      "768/768 [==============================] - 0s 156us/step - loss: 0.6343 - acc: 0.6693\n",
      "Epoch 16/150\n",
      "768/768 [==============================] - 0s 153us/step - loss: 0.6241 - acc: 0.6615\n",
      "Epoch 17/150\n",
      "768/768 [==============================] - ETA: 0s - loss: 0.6217 - acc: 0.688 - 0s 146us/step - loss: 0.6228 - acc: 0.6810\n",
      "Epoch 18/150\n",
      "768/768 [==============================] - 0s 146us/step - loss: 0.6289 - acc: 0.6706\n",
      "Epoch 19/150\n",
      "768/768 [==============================] - 0s 130us/step - loss: 0.6324 - acc: 0.6628\n",
      "Epoch 20/150\n",
      "768/768 [==============================] - 0s 130us/step - loss: 0.6110 - acc: 0.6745\n",
      "Epoch 21/150\n",
      "768/768 [==============================] - 0s 141us/step - loss: 0.6158 - acc: 0.6810\n",
      "Epoch 22/150\n",
      "768/768 [==============================] - 0s 130us/step - loss: 0.6174 - acc: 0.6862\n",
      "Epoch 23/150\n",
      "768/768 [==============================] - 0s 135us/step - loss: 0.6086 - acc: 0.6979\n",
      "Epoch 24/150\n",
      "768/768 [==============================] - 0s 130us/step - loss: 0.6017 - acc: 0.6875\n",
      "Epoch 25/150\n",
      "768/768 [==============================] - 0s 135us/step - loss: 0.6050 - acc: 0.6745\n",
      "Epoch 26/150\n",
      "768/768 [==============================] - 0s 156us/step - loss: 0.6022 - acc: 0.6888\n",
      "Epoch 27/150\n",
      "768/768 [==============================] - 0s 172us/step - loss: 0.5997 - acc: 0.6888\n",
      "Epoch 28/150\n",
      "768/768 [==============================] - 0s 172us/step - loss: 0.6077 - acc: 0.6992\n",
      "Epoch 29/150\n",
      "768/768 [==============================] - 0s 193us/step - loss: 0.6009 - acc: 0.6797\n",
      "Epoch 30/150\n",
      "768/768 [==============================] - 0s 146us/step - loss: 0.5913 - acc: 0.7005\n",
      "Epoch 31/150\n",
      "768/768 [==============================] - 0s 156us/step - loss: 0.5933 - acc: 0.6953\n",
      "Epoch 32/150\n",
      "768/768 [==============================] - 0s 141us/step - loss: 0.5882 - acc: 0.7057\n",
      "Epoch 33/150\n",
      "768/768 [==============================] - 0s 130us/step - loss: 0.6032 - acc: 0.6914\n",
      "Epoch 34/150\n",
      "768/768 [==============================] - 0s 130us/step - loss: 0.5812 - acc: 0.7005\n",
      "Epoch 35/150\n",
      "768/768 [==============================] - 0s 130us/step - loss: 0.5941 - acc: 0.6914\n",
      "Epoch 36/150\n",
      "768/768 [==============================] - 0s 125us/step - loss: 0.5800 - acc: 0.6914\n",
      "Epoch 37/150\n",
      "768/768 [==============================] - 0s 135us/step - loss: 0.5848 - acc: 0.7057\n",
      "Epoch 38/150\n",
      "768/768 [==============================] - 0s 177us/step - loss: 0.5776 - acc: 0.7161\n",
      "Epoch 39/150\n",
      "768/768 [==============================] - 0s 172us/step - loss: 0.5720 - acc: 0.7083\n",
      "Epoch 40/150\n",
      "768/768 [==============================] - 0s 130us/step - loss: 0.5781 - acc: 0.7135\n",
      "Epoch 41/150\n",
      "768/768 [==============================] - 0s 156us/step - loss: 0.5712 - acc: 0.7005\n",
      "Epoch 42/150\n",
      "768/768 [==============================] - 0s 130us/step - loss: 0.5726 - acc: 0.7174\n",
      "Epoch 43/150\n",
      "768/768 [==============================] - 0s 125us/step - loss: 0.5732 - acc: 0.7083\n",
      "Epoch 44/150\n",
      "768/768 [==============================] - 0s 125us/step - loss: 0.5724 - acc: 0.6979\n",
      "Epoch 45/150\n",
      "768/768 [==============================] - 0s 130us/step - loss: 0.5728 - acc: 0.7018\n",
      "Epoch 46/150\n",
      "768/768 [==============================] - 0s 135us/step - loss: 0.5854 - acc: 0.6953\n",
      "Epoch 47/150\n",
      "768/768 [==============================] - 0s 130us/step - loss: 0.5662 - acc: 0.7109\n",
      "Epoch 48/150\n",
      "768/768 [==============================] - 0s 125us/step - loss: 0.5647 - acc: 0.7279\n",
      "Epoch 49/150\n",
      "768/768 [==============================] - 0s 156us/step - loss: 0.5668 - acc: 0.7083\n",
      "Epoch 50/150\n",
      "768/768 [==============================] - 0s 177us/step - loss: 0.5569 - acc: 0.7201\n",
      "Epoch 51/150\n",
      "768/768 [==============================] - 0s 161us/step - loss: 0.5697 - acc: 0.7031\n",
      "Epoch 52/150\n",
      "768/768 [==============================] - 0s 125us/step - loss: 0.5555 - acc: 0.7201\n",
      "Epoch 53/150\n",
      "768/768 [==============================] - 0s 120us/step - loss: 0.5594 - acc: 0.7227\n",
      "Epoch 54/150\n",
      "768/768 [==============================] - 0s 146us/step - loss: 0.5793 - acc: 0.6992\n",
      "Epoch 55/150\n",
      "768/768 [==============================] - 0s 229us/step - loss: 0.5553 - acc: 0.7279\n",
      "Epoch 56/150\n",
      "768/768 [==============================] - 0s 161us/step - loss: 0.5543 - acc: 0.7214\n",
      "Epoch 57/150\n",
      "768/768 [==============================] - 0s 141us/step - loss: 0.5538 - acc: 0.7148\n",
      "Epoch 58/150\n",
      "768/768 [==============================] - 0s 161us/step - loss: 0.5697 - acc: 0.7083\n",
      "Epoch 59/150\n",
      "768/768 [==============================] - 0s 177us/step - loss: 0.5522 - acc: 0.7214\n",
      "Epoch 60/150\n",
      "768/768 [==============================] - 0s 156us/step - loss: 0.5475 - acc: 0.7253\n",
      "Epoch 61/150\n",
      "768/768 [==============================] - 0s 130us/step - loss: 0.5466 - acc: 0.7292\n",
      "Epoch 62/150\n",
      "768/768 [==============================] - 0s 125us/step - loss: 0.5476 - acc: 0.7279\n",
      "Epoch 63/150\n",
      "768/768 [==============================] - 0s 120us/step - loss: 0.5437 - acc: 0.7279\n",
      "Epoch 64/150\n",
      "768/768 [==============================] - 0s 130us/step - loss: 0.5487 - acc: 0.7266\n",
      "Epoch 65/150\n",
      "768/768 [==============================] - 0s 141us/step - loss: 0.5468 - acc: 0.7292\n",
      "Epoch 66/150\n",
      "768/768 [==============================] - 0s 125us/step - loss: 0.5455 - acc: 0.7318\n",
      "Epoch 67/150\n",
      "768/768 [==============================] - 0s 125us/step - loss: 0.5400 - acc: 0.7396\n",
      "Epoch 68/150\n",
      "768/768 [==============================] - 0s 125us/step - loss: 0.5403 - acc: 0.7253\n",
      "Epoch 69/150\n",
      "768/768 [==============================] - 0s 125us/step - loss: 0.5392 - acc: 0.7292\n",
      "Epoch 70/150\n",
      "768/768 [==============================] - 0s 146us/step - loss: 0.5398 - acc: 0.7422\n",
      "Epoch 71/150\n",
      "768/768 [==============================] - 0s 141us/step - loss: 0.5334 - acc: 0.7409\n",
      "Epoch 72/150\n",
      "768/768 [==============================] - 0s 135us/step - loss: 0.5447 - acc: 0.7305\n",
      "Epoch 73/150\n",
      "768/768 [==============================] - 0s 156us/step - loss: 0.5422 - acc: 0.7266\n",
      "Epoch 74/150\n",
      "768/768 [==============================] - 0s 146us/step - loss: 0.5351 - acc: 0.7253\n",
      "Epoch 75/150\n",
      "768/768 [==============================] - 0s 146us/step - loss: 0.5385 - acc: 0.7474\n",
      "Epoch 76/150\n",
      "768/768 [==============================] - 0s 141us/step - loss: 0.5293 - acc: 0.7370\n",
      "Epoch 77/150\n",
      "768/768 [==============================] - 0s 135us/step - loss: 0.5315 - acc: 0.7357\n",
      "Epoch 78/150\n",
      "768/768 [==============================] - 0s 120us/step - loss: 0.5276 - acc: 0.7513\n",
      "Epoch 79/150\n",
      "768/768 [==============================] - 0s 141us/step - loss: 0.5292 - acc: 0.7409\n",
      "Epoch 80/150\n"
     ]
    },
    {
     "name": "stdout",
     "output_type": "stream",
     "text": [
      "768/768 [==============================] - 0s 135us/step - loss: 0.5325 - acc: 0.7396\n",
      "Epoch 81/150\n",
      "768/768 [==============================] - 0s 130us/step - loss: 0.5437 - acc: 0.7331\n",
      "Epoch 82/150\n",
      "768/768 [==============================] - 0s 115us/step - loss: 0.5304 - acc: 0.7305\n",
      "Epoch 83/150\n",
      "768/768 [==============================] - 0s 125us/step - loss: 0.5295 - acc: 0.7474\n",
      "Epoch 84/150\n",
      "768/768 [==============================] - 0s 115us/step - loss: 0.5360 - acc: 0.7331\n",
      "Epoch 85/150\n",
      "768/768 [==============================] - 0s 130us/step - loss: 0.5269 - acc: 0.7383\n",
      "Epoch 86/150\n",
      "768/768 [==============================] - 0s 135us/step - loss: 0.5351 - acc: 0.7435\n",
      "Epoch 87/150\n",
      "768/768 [==============================] - 0s 120us/step - loss: 0.5344 - acc: 0.7435\n",
      "Epoch 88/150\n",
      "768/768 [==============================] - 0s 125us/step - loss: 0.5391 - acc: 0.7396\n",
      "Epoch 89/150\n",
      "768/768 [==============================] - 0s 130us/step - loss: 0.5234 - acc: 0.7370\n",
      "Epoch 90/150\n",
      "768/768 [==============================] - 0s 130us/step - loss: 0.5255 - acc: 0.7305\n",
      "Epoch 91/150\n",
      "768/768 [==============================] - 0s 125us/step - loss: 0.5282 - acc: 0.7357\n",
      "Epoch 92/150\n",
      "768/768 [==============================] - 0s 161us/step - loss: 0.5439 - acc: 0.7331\n",
      "Epoch 93/150\n",
      "768/768 [==============================] - 0s 125us/step - loss: 0.5170 - acc: 0.7500\n",
      "Epoch 94/150\n",
      "768/768 [==============================] - 0s 120us/step - loss: 0.5217 - acc: 0.7448\n",
      "Epoch 95/150\n",
      "768/768 [==============================] - 0s 125us/step - loss: 0.5188 - acc: 0.7500\n",
      "Epoch 96/150\n",
      "768/768 [==============================] - 0s 135us/step - loss: 0.5209 - acc: 0.7448\n",
      "Epoch 97/150\n",
      "768/768 [==============================] - 0s 125us/step - loss: 0.5300 - acc: 0.7318\n",
      "Epoch 98/150\n",
      "768/768 [==============================] - 0s 130us/step - loss: 0.5183 - acc: 0.7435\n",
      "Epoch 99/150\n",
      "768/768 [==============================] - 0s 177us/step - loss: 0.5121 - acc: 0.7487\n",
      "Epoch 100/150\n",
      "768/768 [==============================] - 0s 151us/step - loss: 0.5135 - acc: 0.7435\n",
      "Epoch 101/150\n",
      "768/768 [==============================] - 0s 125us/step - loss: 0.5172 - acc: 0.7396\n",
      "Epoch 102/150\n",
      "768/768 [==============================] - 0s 177us/step - loss: 0.5194 - acc: 0.7474\n",
      "Epoch 103/150\n",
      "768/768 [==============================] - 0s 156us/step - loss: 0.5214 - acc: 0.7383\n",
      "Epoch 104/150\n",
      "768/768 [==============================] - 0s 125us/step - loss: 0.5287 - acc: 0.7448\n",
      "Epoch 105/150\n",
      "768/768 [==============================] - 0s 115us/step - loss: 0.5124 - acc: 0.7422\n",
      "Epoch 106/150\n",
      "768/768 [==============================] - 0s 120us/step - loss: 0.5144 - acc: 0.7474\n",
      "Epoch 107/150\n",
      "768/768 [==============================] - 0s 130us/step - loss: 0.5087 - acc: 0.7552\n",
      "Epoch 108/150\n",
      "768/768 [==============================] - 0s 135us/step - loss: 0.5151 - acc: 0.7383\n",
      "Epoch 109/150\n",
      "768/768 [==============================] - 0s 125us/step - loss: 0.5079 - acc: 0.7552\n",
      "Epoch 110/150\n",
      "768/768 [==============================] - 0s 125us/step - loss: 0.5087 - acc: 0.7500\n",
      "Epoch 111/150\n",
      "768/768 [==============================] - 0s 115us/step - loss: 0.5048 - acc: 0.7500\n",
      "Epoch 112/150\n",
      "768/768 [==============================] - 0s 125us/step - loss: 0.5054 - acc: 0.7539\n",
      "Epoch 113/150\n",
      "768/768 [==============================] - 0s 130us/step - loss: 0.5072 - acc: 0.7435\n",
      "Epoch 114/150\n",
      "768/768 [==============================] - 0s 146us/step - loss: 0.5106 - acc: 0.7474\n",
      "Epoch 115/150\n",
      "768/768 [==============================] - 0s 156us/step - loss: 0.4995 - acc: 0.7747\n",
      "Epoch 116/150\n",
      "768/768 [==============================] - 0s 135us/step - loss: 0.5120 - acc: 0.7604\n",
      "Epoch 117/150\n",
      "768/768 [==============================] - 0s 156us/step - loss: 0.5016 - acc: 0.7526\n",
      "Epoch 118/150\n",
      "768/768 [==============================] - 0s 151us/step - loss: 0.5034 - acc: 0.7591\n",
      "Epoch 119/150\n",
      "768/768 [==============================] - 0s 151us/step - loss: 0.5117 - acc: 0.7539\n",
      "Epoch 120/150\n",
      "768/768 [==============================] - 0s 156us/step - loss: 0.5063 - acc: 0.7539\n",
      "Epoch 121/150\n",
      "768/768 [==============================] - 0s 167us/step - loss: 0.5010 - acc: 0.7565\n",
      "Epoch 122/150\n",
      "768/768 [==============================] - 0s 161us/step - loss: 0.5033 - acc: 0.7461\n",
      "Epoch 123/150\n",
      "768/768 [==============================] - 0s 125us/step - loss: 0.5160 - acc: 0.7474\n",
      "Epoch 124/150\n",
      "768/768 [==============================] - 0s 172us/step - loss: 0.5061 - acc: 0.7604\n",
      "Epoch 125/150\n",
      "768/768 [==============================] - 0s 167us/step - loss: 0.4981 - acc: 0.7500\n",
      "Epoch 126/150\n",
      "768/768 [==============================] - 0s 151us/step - loss: 0.5183 - acc: 0.7578\n",
      "Epoch 127/150\n",
      "768/768 [==============================] - 0s 151us/step - loss: 0.5101 - acc: 0.7487\n",
      "Epoch 128/150\n",
      "768/768 [==============================] - 0s 151us/step - loss: 0.5128 - acc: 0.7578\n",
      "Epoch 129/150\n",
      "768/768 [==============================] - 0s 151us/step - loss: 0.5037 - acc: 0.7617\n",
      "Epoch 130/150\n",
      "768/768 [==============================] - 0s 167us/step - loss: 0.4997 - acc: 0.7526\n",
      "Epoch 131/150\n",
      "768/768 [==============================] - 0s 167us/step - loss: 0.5053 - acc: 0.7617\n",
      "Epoch 132/150\n",
      "768/768 [==============================] - 0s 161us/step - loss: 0.5038 - acc: 0.7487\n",
      "Epoch 133/150\n",
      "768/768 [==============================] - 0s 167us/step - loss: 0.5074 - acc: 0.7552\n",
      "Epoch 134/150\n",
      "768/768 [==============================] - 0s 182us/step - loss: 0.5076 - acc: 0.7487\n",
      "Epoch 135/150\n",
      "768/768 [==============================] - 0s 156us/step - loss: 0.4960 - acc: 0.7539\n",
      "Epoch 136/150\n",
      "768/768 [==============================] - 0s 151us/step - loss: 0.4965 - acc: 0.7578\n",
      "Epoch 137/150\n",
      "768/768 [==============================] - 0s 151us/step - loss: 0.4941 - acc: 0.7539\n",
      "Epoch 138/150\n",
      "768/768 [==============================] - 0s 135us/step - loss: 0.4996 - acc: 0.7604\n",
      "Epoch 139/150\n",
      "768/768 [==============================] - 0s 130us/step - loss: 0.4991 - acc: 0.7617\n",
      "Epoch 140/150\n",
      "768/768 [==============================] - 0s 156us/step - loss: 0.4953 - acc: 0.7591\n",
      "Epoch 141/150\n",
      "768/768 [==============================] - 0s 130us/step - loss: 0.4932 - acc: 0.7643\n",
      "Epoch 142/150\n",
      "768/768 [==============================] - 0s 125us/step - loss: 0.4991 - acc: 0.7643\n",
      "Epoch 143/150\n",
      "768/768 [==============================] - 0s 130us/step - loss: 0.4939 - acc: 0.7578\n",
      "Epoch 144/150\n",
      "768/768 [==============================] - 0s 161us/step - loss: 0.5024 - acc: 0.7604\n",
      "Epoch 145/150\n",
      "768/768 [==============================] - 0s 151us/step - loss: 0.5082 - acc: 0.7487\n",
      "Epoch 146/150\n",
      "768/768 [==============================] - 0s 130us/step - loss: 0.4940 - acc: 0.7630\n",
      "Epoch 147/150\n",
      "768/768 [==============================] - 0s 146us/step - loss: 0.4954 - acc: 0.7604\n",
      "Epoch 148/150\n",
      "768/768 [==============================] - 0s 146us/step - loss: 0.4998 - acc: 0.7630\n",
      "Epoch 149/150\n",
      "768/768 [==============================] - 0s 130us/step - loss: 0.4938 - acc: 0.7708\n",
      "Epoch 150/150\n",
      "768/768 [==============================] - 0s 120us/step - loss: 0.4963 - acc: 0.7643\n"
     ]
    },
    {
     "data": {
      "text/plain": [
       "<keras.callbacks.History at 0x2407d03a748>"
      ]
     },
     "execution_count": 5,
     "metadata": {},
     "output_type": "execute_result"
    }
   ],
   "source": [
    "model.fit(X,y, epochs=150, batch_size=10)"
   ]
  },
  {
   "cell_type": "markdown",
   "metadata": {},
   "source": [
    "# Evaluate the Keras Model"
   ]
  },
  {
   "cell_type": "code",
   "execution_count": 6,
   "metadata": {},
   "outputs": [
    {
     "name": "stdout",
     "output_type": "stream",
     "text": [
      "768/768 [==============================] - 0s 251us/step\n",
      "Accuracy:75.39\n"
     ]
    }
   ],
   "source": [
    "_,accuracy=model.evaluate(X,y)\n",
    "print(\"Accuracy:%.2f\"%(accuracy*100))"
   ]
  },
  {
   "cell_type": "markdown",
   "metadata": {},
   "source": [
    "# Make Predictions with model"
   ]
  },
  {
   "cell_type": "code",
   "execution_count": 7,
   "metadata": {},
   "outputs": [],
   "source": [
    "predictions=model.predict(X)\n",
    "\n",
    "# round predictions\n",
    "rounded=[round(x[0]) for x in predictions]"
   ]
  },
  {
   "cell_type": "markdown",
   "metadata": {},
   "source": [
    "# Make CLass Predictions"
   ]
  },
  {
   "cell_type": "code",
   "execution_count": 8,
   "metadata": {},
   "outputs": [
    {
     "name": "stdout",
     "output_type": "stream",
     "text": [
      "[6.0, 148.0, 72.0, 35.0, 0.0, 33.6, 0.627, 50.0]=>1(expected=1)\n",
      "[1.0, 85.0, 66.0, 29.0, 0.0, 26.6, 0.351, 31.0]=>0(expected=0)\n",
      "[8.0, 183.0, 64.0, 0.0, 0.0, 23.3, 0.672, 32.0]=>1(expected=1)\n",
      "[1.0, 89.0, 66.0, 23.0, 94.0, 28.1, 0.167, 21.0]=>0(expected=0)\n",
      "[0.0, 137.0, 40.0, 35.0, 168.0, 43.1, 2.288, 33.0]=>1(expected=1)\n"
     ]
    }
   ],
   "source": [
    "predictions=model.predict_classes(X)\n",
    "\n",
    "# Summarize the first 5 cases\n",
    "for i in range(5):\n",
    "    print(\"%s=>%d(expected=%d)\" % (X[i].tolist(),predictions[i], y[i]))"
   ]
  },
  {
   "cell_type": "markdown",
   "metadata": {},
   "source": [
    "# Logistic Regression Method"
   ]
  },
  {
   "cell_type": "code",
   "execution_count": 9,
   "metadata": {},
   "outputs": [],
   "source": [
    "import pandas as pd\n",
    "import numpy as np\n",
    "from sklearn.model_selection import train_test_split"
   ]
  },
  {
   "cell_type": "code",
   "execution_count": 10,
   "metadata": {},
   "outputs": [],
   "source": [
    "from sklearn import preprocessing"
   ]
  },
  {
   "cell_type": "markdown",
   "metadata": {},
   "source": [
    "# Preprocessing the data"
   ]
  },
  {
   "cell_type": "code",
   "execution_count": 11,
   "metadata": {},
   "outputs": [],
   "source": [
    "dataset=pd.read_csv(\"indian_diabetes.csv\")"
   ]
  },
  {
   "cell_type": "code",
   "execution_count": 12,
   "metadata": {},
   "outputs": [],
   "source": [
    "dataset.head(10)\n",
    "# Renaming the index column\n",
    "\n",
    "dataset.rename(columns={\"6\":\"No. of times Pregnant\",\"148\":\"Plasma Glucose Concentration\",\"72\":\"Diastolic Blood Pressure\",\"35\":\"Triceps thick skin\",\"0\":\"2 hour serum insulin\",\"33.6\":\"body mass index\",\"0.627\":\"Diabetes Pedigree function\",\"50\":\"Age\",\"1\":\"Output\"},inplace=True)"
   ]
  },
  {
   "cell_type": "code",
   "execution_count": 13,
   "metadata": {},
   "outputs": [
    {
     "data": {
      "text/html": [
       "<div>\n",
       "<style scoped>\n",
       "    .dataframe tbody tr th:only-of-type {\n",
       "        vertical-align: middle;\n",
       "    }\n",
       "\n",
       "    .dataframe tbody tr th {\n",
       "        vertical-align: top;\n",
       "    }\n",
       "\n",
       "    .dataframe thead th {\n",
       "        text-align: right;\n",
       "    }\n",
       "</style>\n",
       "<table border=\"1\" class=\"dataframe\">\n",
       "  <thead>\n",
       "    <tr style=\"text-align: right;\">\n",
       "      <th></th>\n",
       "      <th>No. of times Pregnant</th>\n",
       "      <th>Plasma Glucose Concentration</th>\n",
       "      <th>Diastolic Blood Pressure</th>\n",
       "      <th>Triceps thick skin</th>\n",
       "      <th>2 hour serum insulin</th>\n",
       "      <th>body mass index</th>\n",
       "      <th>Diabetes Pedigree function</th>\n",
       "      <th>Age</th>\n",
       "      <th>Output</th>\n",
       "    </tr>\n",
       "  </thead>\n",
       "  <tbody>\n",
       "    <tr>\n",
       "      <td>0</td>\n",
       "      <td>1</td>\n",
       "      <td>85</td>\n",
       "      <td>66</td>\n",
       "      <td>29</td>\n",
       "      <td>0</td>\n",
       "      <td>26.6</td>\n",
       "      <td>0.351</td>\n",
       "      <td>31</td>\n",
       "      <td>0</td>\n",
       "    </tr>\n",
       "    <tr>\n",
       "      <td>1</td>\n",
       "      <td>8</td>\n",
       "      <td>183</td>\n",
       "      <td>64</td>\n",
       "      <td>0</td>\n",
       "      <td>0</td>\n",
       "      <td>23.3</td>\n",
       "      <td>0.672</td>\n",
       "      <td>32</td>\n",
       "      <td>1</td>\n",
       "    </tr>\n",
       "    <tr>\n",
       "      <td>2</td>\n",
       "      <td>1</td>\n",
       "      <td>89</td>\n",
       "      <td>66</td>\n",
       "      <td>23</td>\n",
       "      <td>94</td>\n",
       "      <td>28.1</td>\n",
       "      <td>0.167</td>\n",
       "      <td>21</td>\n",
       "      <td>0</td>\n",
       "    </tr>\n",
       "    <tr>\n",
       "      <td>3</td>\n",
       "      <td>0</td>\n",
       "      <td>137</td>\n",
       "      <td>40</td>\n",
       "      <td>35</td>\n",
       "      <td>168</td>\n",
       "      <td>43.1</td>\n",
       "      <td>2.288</td>\n",
       "      <td>33</td>\n",
       "      <td>1</td>\n",
       "    </tr>\n",
       "    <tr>\n",
       "      <td>4</td>\n",
       "      <td>5</td>\n",
       "      <td>116</td>\n",
       "      <td>74</td>\n",
       "      <td>0</td>\n",
       "      <td>0</td>\n",
       "      <td>25.6</td>\n",
       "      <td>0.201</td>\n",
       "      <td>30</td>\n",
       "      <td>0</td>\n",
       "    </tr>\n",
       "  </tbody>\n",
       "</table>\n",
       "</div>"
      ],
      "text/plain": [
       "   No. of times Pregnant  Plasma Glucose Concentration  \\\n",
       "0                      1                            85   \n",
       "1                      8                           183   \n",
       "2                      1                            89   \n",
       "3                      0                           137   \n",
       "4                      5                           116   \n",
       "\n",
       "   Diastolic Blood Pressure  Triceps thick skin  2 hour serum insulin  \\\n",
       "0                        66                  29                     0   \n",
       "1                        64                   0                     0   \n",
       "2                        66                  23                    94   \n",
       "3                        40                  35                   168   \n",
       "4                        74                   0                     0   \n",
       "\n",
       "   body mass index  Diabetes Pedigree function  Age  Output  \n",
       "0             26.6                       0.351   31       0  \n",
       "1             23.3                       0.672   32       1  \n",
       "2             28.1                       0.167   21       0  \n",
       "3             43.1                       2.288   33       1  \n",
       "4             25.6                       0.201   30       0  "
      ]
     },
     "execution_count": 13,
     "metadata": {},
     "output_type": "execute_result"
    }
   ],
   "source": [
    "dataset.head()"
   ]
  },
  {
   "cell_type": "markdown",
   "metadata": {},
   "source": [
    "# Checking the Na values \n",
    "\n",
    "dataset.isnull().sum()"
   ]
  },
  {
   "cell_type": "code",
   "execution_count": 14,
   "metadata": {},
   "outputs": [
    {
     "data": {
      "text/plain": [
       "No. of times Pregnant           0\n",
       "Plasma Glucose Concentration    0\n",
       "Diastolic Blood Pressure        0\n",
       "Triceps thick skin              0\n",
       "2 hour serum insulin            0\n",
       "body mass index                 0\n",
       "Diabetes Pedigree function      0\n",
       "Age                             0\n",
       "Output                          0\n",
       "dtype: int64"
      ]
     },
     "execution_count": 14,
     "metadata": {},
     "output_type": "execute_result"
    }
   ],
   "source": [
    "dataset.isnull().sum()"
   ]
  },
  {
   "cell_type": "markdown",
   "metadata": {},
   "source": [
    "# Split data into training and test dataset"
   ]
  },
  {
   "cell_type": "code",
   "execution_count": 15,
   "metadata": {},
   "outputs": [],
   "source": [
    "X=dataset.drop(\"Output\",axis=1)\n",
    "y=dataset[\"Output\"]"
   ]
  },
  {
   "cell_type": "code",
   "execution_count": 16,
   "metadata": {},
   "outputs": [],
   "source": [
    "X_train, X_test, y_train, y_test=train_test_split(X, y, test_size=0.3, random_state=1)"
   ]
  },
  {
   "cell_type": "code",
   "execution_count": 17,
   "metadata": {},
   "outputs": [],
   "source": [
    "from sklearn.linear_model import LogisticRegression"
   ]
  },
  {
   "cell_type": "code",
   "execution_count": 18,
   "metadata": {},
   "outputs": [],
   "source": [
    "model=LogisticRegression()"
   ]
  },
  {
   "cell_type": "code",
   "execution_count": 19,
   "metadata": {},
   "outputs": [
    {
     "data": {
      "text/plain": [
       "LogisticRegression(C=1.0, class_weight=None, dual=False, fit_intercept=True,\n",
       "          intercept_scaling=1, max_iter=100, multi_class='ovr', n_jobs=1,\n",
       "          penalty='l2', random_state=None, solver='liblinear', tol=0.0001,\n",
       "          verbose=0, warm_start=False)"
      ]
     },
     "execution_count": 19,
     "metadata": {},
     "output_type": "execute_result"
    }
   ],
   "source": [
    "model.fit(X_train, y_train)"
   ]
  },
  {
   "cell_type": "code",
   "execution_count": 20,
   "metadata": {},
   "outputs": [],
   "source": [
    "prediction=model.predict(X_test)"
   ]
  },
  {
   "cell_type": "markdown",
   "metadata": {},
   "source": [
    "# Preparing Classification Report"
   ]
  },
  {
   "cell_type": "code",
   "execution_count": 21,
   "metadata": {},
   "outputs": [],
   "source": [
    "from sklearn.metrics import classification_report"
   ]
  },
  {
   "cell_type": "code",
   "execution_count": 22,
   "metadata": {},
   "outputs": [
    {
     "data": {
      "text/plain": [
       "'             precision    recall  f1-score   support\\n\\n          0       0.80      0.90      0.85       158\\n          1       0.70      0.51      0.59        73\\n\\navg / total       0.77      0.77      0.76       231\\n'"
      ]
     },
     "execution_count": 22,
     "metadata": {},
     "output_type": "execute_result"
    }
   ],
   "source": [
    "classification_report(y_test, prediction)"
   ]
  },
  {
   "cell_type": "markdown",
   "metadata": {},
   "source": [
    "# Confusion Matrix"
   ]
  },
  {
   "cell_type": "code",
   "execution_count": 23,
   "metadata": {},
   "outputs": [],
   "source": [
    "from sklearn.metrics import confusion_matrix"
   ]
  },
  {
   "cell_type": "code",
   "execution_count": 24,
   "metadata": {},
   "outputs": [
    {
     "data": {
      "text/plain": [
       "array([[142,  16],\n",
       "       [ 36,  37]], dtype=int64)"
      ]
     },
     "execution_count": 24,
     "metadata": {},
     "output_type": "execute_result"
    }
   ],
   "source": [
    "confusion_matrix(y_test, prediction)"
   ]
  },
  {
   "cell_type": "markdown",
   "metadata": {},
   "source": [
    "# Checking the accuracy score"
   ]
  },
  {
   "cell_type": "code",
   "execution_count": 25,
   "metadata": {},
   "outputs": [],
   "source": [
    "from sklearn.metrics import accuracy_score"
   ]
  },
  {
   "cell_type": "code",
   "execution_count": 26,
   "metadata": {},
   "outputs": [
    {
     "data": {
      "text/plain": [
       "0.7748917748917749"
      ]
     },
     "execution_count": 26,
     "metadata": {},
     "output_type": "execute_result"
    }
   ],
   "source": [
    "accuracy_score(y_test, prediction)"
   ]
  },
  {
   "cell_type": "code",
   "execution_count": null,
   "metadata": {},
   "outputs": [],
   "source": []
  }
 ],
 "metadata": {
  "kernelspec": {
   "display_name": "Python 3",
   "language": "python",
   "name": "python3"
  },
  "language_info": {
   "codemirror_mode": {
    "name": "ipython",
    "version": 3
   },
   "file_extension": ".py",
   "mimetype": "text/x-python",
   "name": "python",
   "nbconvert_exporter": "python",
   "pygments_lexer": "ipython3",
   "version": "3.6.5"
  }
 },
 "nbformat": 4,
 "nbformat_minor": 2
}
